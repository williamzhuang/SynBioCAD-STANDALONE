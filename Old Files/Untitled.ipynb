{
 "cells": [
  {
   "cell_type": "code",
   "execution_count": 6,
   "metadata": {
    "collapsed": false
   },
   "outputs": [
    {
     "name": "stdout",
     "output_type": "stream",
     "text": [
      "Working\n"
     ]
    }
   ],
   "source": [
    "import numpy as np\n",
    "import matplotlib.pyplot as plt\n",
    "\n",
    "a = np.random.normal(0,2,1000)\n",
    "b = np.random.normal(-2,7,100)\n",
    "data = [a,b]\n",
    "\n",
    "plt.boxplot(data) # Or you can use the boxplot from Pandas\n",
    "\n",
    "for i in [1,2]:\n",
    "    y = data[i-1]\n",
    "    x = np.random.normal(i, 0.02, len(y))\n",
    "    plt.plot(x, y, 'r.', alpha=0.2)\n",
    "    \n",
    "print(\"Working\")"
   ]
  },
  {
   "cell_type": "code",
   "execution_count": null,
   "metadata": {
    "collapsed": true
   },
   "outputs": [],
   "source": []
  }
 ],
 "metadata": {
  "kernelspec": {
   "display_name": "Python 2",
   "language": "python",
   "name": "python2"
  },
  "language_info": {
   "codemirror_mode": {
    "name": "ipython",
    "version": 2
   },
   "file_extension": ".py",
   "mimetype": "text/x-python",
   "name": "python",
   "nbconvert_exporter": "python",
   "pygments_lexer": "ipython2",
   "version": "2.7.9"
  }
 },
 "nbformat": 4,
 "nbformat_minor": 0
}
